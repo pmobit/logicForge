{
 "cells": [
  {
   "cell_type": "code",
   "execution_count": 1,
   "id": "30350d0b",
   "metadata": {},
   "outputs": [
    {
     "name": "stdout",
     "output_type": "stream",
     "text": [
      "Boolean Algebra:\n",
      " Lights_Off = Room_Empty AND Timer_10s\n",
      "\n",
      "Ladder Logic:\n",
      " \n",
      "        Ladder Logic:\n",
      "        \n",
      "        [ ]---[ ]---( )---\n",
      "        | Motion_Sensor  Timer (10s)   Light_Off |\n",
      "        \n",
      "        Description:\n",
      "        If the room is empty for 10 seconds, the motion sensor triggers a timer, and the lights turn off.\n",
      "        \n"
     ]
    }
   ],
   "source": [
    "def parse_text_to_plc_logic(task_description):\n",
    "    # Extract conditions and actions from the task description\n",
    "    if \"room is empty\" in task_description and \"10 seconds\" in task_description and \"turn the lights off\" in task_description:\n",
    "        boolean_algebra = \"Lights_Off = Room_Empty AND Timer_10s\"\n",
    "        ladder_logic = \"\"\"\n",
    "        Ladder Logic:\n",
    "        \n",
    "        [ ]---[ ]---( )---\n",
    "        | Motion_Sensor  Timer (10s)   Light_Off |\n",
    "        \n",
    "        Description:\n",
    "        If the room is empty for 10 seconds, the motion sensor triggers a timer, and the lights turn off.\n",
    "        \"\"\"\n",
    "        return boolean_algebra, ladder_logic\n",
    "    else:\n",
    "        return \"No valid task found.\", \"No ladder logic generated.\"\n",
    "\n",
    "# Example task description\n",
    "task = \"if the room is empty for 10 seconds, turn the lights off\"\n",
    "boolean_algebra, ladder_logic = parse_text_to_plc_logic(task)\n",
    "\n",
    "# Output the conversion results\n",
    "print(\"Boolean Algebra:\\n\", boolean_algebra)\n",
    "print(\"\\nLadder Logic:\\n\", ladder_logic)\n"
   ]
  },
  {
   "cell_type": "code",
   "execution_count": 2,
   "id": "ac9b163c",
   "metadata": {},
   "outputs": [
    {
     "name": "stdout",
     "output_type": "stream",
     "text": [
      "Room empty for 0 seconds...\n",
      "Room empty for 1 seconds...\n",
      "Room empty for 2 seconds...\n",
      "Room empty for 3 seconds...\n",
      "Room empty for 4 seconds...\n",
      "Room empty for 5 seconds...\n",
      "Room empty for 6 seconds...\n",
      "Room empty for 7 seconds...\n",
      "Room empty for 8 seconds...\n",
      "Room empty for 9 seconds...\n",
      "Lights turned off!\n",
      "Lights status: Off\n"
     ]
    }
   ],
   "source": [
    "import time\n",
    "\n",
    "# Simulate input signals and PLC logic for motion sensor and lights control\n",
    "class PLC:\n",
    "    def __init__(self):\n",
    "        self.motion_sensor = False  # Motion sensor starts as off (room is empty)\n",
    "        self.timer = 0  # Timer starts at 0\n",
    "        self.lights = True  # Lights start on\n",
    "    \n",
    "    def check_room_status(self):\n",
    "        if not self.motion_sensor:\n",
    "            self.start_timer()\n",
    "        else:\n",
    "            self.reset_timer()\n",
    "            self.lights = True  # Turn lights on if motion is detected\n",
    "\n",
    "    def start_timer(self):\n",
    "        # Simulate Timer On Delay for 10 seconds\n",
    "        while self.timer < 10:\n",
    "            print(f\"Room empty for {self.timer} seconds...\")\n",
    "            self.timer += 1\n",
    "            time.sleep(1)\n",
    "        # If room is empty for 10 seconds, turn off the lights\n",
    "        self.lights = False\n",
    "        print(\"Lights turned off!\")\n",
    "\n",
    "    def reset_timer(self):\n",
    "        self.timer = 0  # Reset the timer when motion is detected\n",
    "\n",
    "# Example usage\n",
    "plc = PLC()\n",
    "\n",
    "# Simulate no motion detected (room is empty)\n",
    "plc.check_room_status()\n",
    "\n",
    "# Print final state of the lights\n",
    "print(f\"Lights status: {'On' if plc.lights else 'Off'}\")\n"
   ]
  },
  {
   "cell_type": "code",
   "execution_count": null,
   "id": "81a3cf8e",
   "metadata": {},
   "outputs": [],
   "source": []
  }
 ],
 "metadata": {
  "kernelspec": {
   "display_name": "Python 3 (ipykernel)",
   "language": "python",
   "name": "python3"
  },
  "language_info": {
   "codemirror_mode": {
    "name": "ipython",
    "version": 3
   },
   "file_extension": ".py",
   "mimetype": "text/x-python",
   "name": "python",
   "nbconvert_exporter": "python",
   "pygments_lexer": "ipython3",
   "version": "3.11.4"
  }
 },
 "nbformat": 4,
 "nbformat_minor": 5
}
